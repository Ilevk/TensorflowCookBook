{
 "cells": [
  {
   "cell_type": "heading",
   "metadata": {},
   "level": 1,
   "source": [
    "Implements Matrix Decomposition Methods"
   ]
  },
  {
   "cell_type": "code",
   "execution_count": 2,
   "metadata": {
    "collapsed": true
   },
   "outputs": [],
   "source": [
    "import matplotlib.pyplot as plt\n",
    "import numpy as np\n",
    "import tensorflow as tf\n",
    "from tensorflow.python.framework import ops\n",
    "ops.reset_default_graph()\n",
    "\n",
    "#Define Variables\n",
    "sess = tf.Session()\n",
    "x_vals = np.linspace(0, 10, 100)\n",
    "#Make y_values normal randomic y_intercept with x\n",
    "y_vals = x_vals + np.random.normal(0, 1, 100)\n",
    "x_vals_column = np.transpose(np.matrix(x_vals))\n",
    "ones_column = np.transpose(np.matrix(np.repeat(1, 100)))\n",
    "A = np.column_stack((x_vals_column, ones_column))\n",
    "b = np.transpose(np.matrix(y_vals))\n",
    "A_tensor = tf.constant(A)\n",
    "b_tensor = tf.constant(b)\n"
   ]
  },
  {
   "cell_type": "code",
   "execution_count": 3,
   "metadata": {},
   "outputs": [],
   "source": [
    "#Make form Ax = b -> LL'x = b\n",
    "tA_A = tf.matmul(tf.transpose(A_tensor), A_tensor)\n",
    "L = tf.cholesky(tA_A)\n",
    "tA_b = tf.matmul(tf.transpose(A_tensor), b)\n",
    "#Solve Ly = b\n",
    "sol1 = tf.matrix_solve(L, tA_b)\n",
    "#Solve L'x = y\n",
    "sol2 = tf.matrix_solve(tf.transpose(L), sol1)"
   ]
  },
  {
   "cell_type": "code",
   "execution_count": 9,
   "metadata": {},
   "outputs": [
    {
     "name": "stdout",
     "output_type": "stream",
     "text": [
      "slope: 1.0011846191996623\ny_intercept 0.024624061692033176\n"
     ]
    }
   ],
   "source": [
    "solution_eval = sess.run(sol2)\n",
    "slope = solution_eval[0][0]\n",
    "y_intercept = solution_eval[1][0]\n",
    "print('slope: ' +str(slope))\n",
    "print('y_intercept ' + str(y_intercept))\n",
    "\n",
    "#plotting\n",
    "best_fit=[]\n",
    "for i in x_vals:\n",
    "    best_fit.append(slope*i+y_intercept)\n",
    "plt.plot(x_vals, y_vals, 'o', label='Data')\n",
    "plt.plot(x_vals,best_fit, 'r-',label = 'Vest fit line')\n",
    "plt.legend(loc='upper left')\n",
    "plt.show()"
   ]
  }
 ],
 "metadata": {
  "kernelspec": {
   "display_name": "Python 2",
   "language": "python",
   "name": "python2"
  },
  "language_info": {
   "codemirror_mode": {
    "name": "ipython",
    "version": 2
   },
   "file_extension": ".py",
   "mimetype": "text/x-python",
   "name": "python",
   "nbconvert_exporter": "python",
   "pygments_lexer": "ipython2",
   "version": "2.7.6"
  }
 },
 "nbformat": 4,
 "nbformat_minor": 0
}
